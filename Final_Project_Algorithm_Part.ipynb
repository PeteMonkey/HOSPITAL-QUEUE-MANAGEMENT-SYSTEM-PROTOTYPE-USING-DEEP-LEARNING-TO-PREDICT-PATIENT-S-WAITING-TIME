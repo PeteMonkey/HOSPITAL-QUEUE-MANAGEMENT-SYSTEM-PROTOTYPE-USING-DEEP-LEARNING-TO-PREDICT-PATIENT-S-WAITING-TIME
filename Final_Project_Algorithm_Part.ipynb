{
  "nbformat": 4,
  "nbformat_minor": 0,
  "metadata": {
    "colab": {
      "provenance": [],
      "toc_visible": true,
      "authorship_tag": "ABX9TyMwE7RbiZNHOskSj92ljc78",
      "include_colab_link": true
    },
    "kernelspec": {
      "name": "python3",
      "display_name": "Python 3"
    },
    "language_info": {
      "name": "python"
    }
  },
  "cells": [
    {
      "cell_type": "markdown",
      "metadata": {
        "id": "view-in-github",
        "colab_type": "text"
      },
      "source": [
        "<a href=\"https://colab.research.google.com/github/Korndanai-Eiamsherangkoon/Final-Project-Algorithm-Part/blob/main/Final_Project_Algorithm_Part.ipynb\" target=\"_parent\"><img src=\"https://colab.research.google.com/assets/colab-badge.svg\" alt=\"Open In Colab\"/></a>"
      ]
    },
    {
      "cell_type": "markdown",
      "source": [
        "# Appointment & Queuing System\n",
        "\n",
        "\n",
        "*   Reception-End\n",
        "*   Manager-End\n",
        "\n",
        "Note appiontment for the patient. \n"
      ],
      "metadata": {
        "id": "BZeb-uJZcFQ-"
      }
    },
    {
      "cell_type": "markdown",
      "source": [
        "For the patients we seperate into 3 groups.\n",
        "\n",
        "1.   Appointmented Patient\n",
        "2.   Walk-in but want to select sepecific doctor.\n",
        "3.   Walk-in\n",
        "\n"
      ],
      "metadata": {
        "id": "JFtZON8ack__"
      }
    },
    {
      "cell_type": "markdown",
      "source": [
        "**Libary**\n",
        "---"
      ],
      "metadata": {
        "id": "vhc_prtXBnuo"
      }
    },
    {
      "cell_type": "code",
      "source": [
        "!pip install PrettyTable\n",
        "from prettytable import PrettyTable\n",
        "from datetime import date\n",
        "import datetime\n",
        "from collections import deque\n"
      ],
      "metadata": {
        "id": "SW9APcaOBrVt",
        "colab": {
          "base_uri": "https://localhost:8080/"
        },
        "outputId": "5ed5d578-1932-4bba-f25b-d41a07d763b6"
      },
      "execution_count": null,
      "outputs": [
        {
          "output_type": "stream",
          "name": "stdout",
          "text": [
            "Looking in indexes: https://pypi.org/simple, https://us-python.pkg.dev/colab-wheels/public/simple/\n",
            "Requirement already satisfied: PrettyTable in /usr/local/lib/python3.8/dist-packages (3.6.0)\n",
            "Requirement already satisfied: wcwidth in /usr/local/lib/python3.8/dist-packages (from PrettyTable) (0.2.6)\n"
          ]
        }
      ]
    },
    {
      "cell_type": "code",
      "source": [
        "current_datetime = datetime.datetime.now()\n",
        "print(current_datetime.strftime(\"%d %b %Y %H:%M\"))"
      ],
      "metadata": {
        "colab": {
          "base_uri": "https://localhost:8080/"
        },
        "id": "ZC4JVcV0eRLc",
        "outputId": "2c68e80a-d266-42c6-96ca-80ae0968fee2"
      },
      "execution_count": null,
      "outputs": [
        {
          "output_type": "stream",
          "name": "stdout",
          "text": [
            "17 Feb 2023 13:50\n"
          ]
        }
      ]
    },
    {
      "cell_type": "markdown",
      "source": [
        "**Basic System**\n",
        "---\n",
        "\n",
        "\n"
      ],
      "metadata": {
        "id": "kUxY9CoKgN3I"
      }
    },
    {
      "cell_type": "code",
      "source": [
        "class Patient:\n",
        "    patient_data = []\n",
        "    patient_dict = {}\n",
        "    \n",
        "    def __init__(self,id,name,age):\n",
        "        self.id = id\n",
        "        self.name = name\n",
        "        self.age = age\n",
        "    \n",
        "    def show_patient_data(self):\n",
        "        print(\"The Patient Data\")\n",
        "        print(f\"Total patients that have data is {len(self.patient_data)} people. While the data show the [Patient's ID., Patient's Name,Patient's Ages]\")\n",
        "        for i in range(len(self.patient_data)):\n",
        "            print(f\"{i+1} {self.patient_data[i]}\")\n",
        "    \n",
        "    def add_patient(self,id,name,age):\n",
        "        #name = input(\"Input your name: \")\n",
        "        #age = int(input(\"Input your age: \"))\n",
        "        add_patient = Patient(id,name,age)\n",
        "        Patient.patient_data.append([id,name, age])\n",
        "        Patient.patient_dict[id] = [name,age]\n",
        "\n",
        "    def search_patient(self,id):\n",
        "        if id in Patient.patient_dict:\n",
        "            print(f\"Patient ID {id}: Name {Patient.patient_dict[id][0]} Age {Patient.patient_dict[id][1]}\")\n",
        "        else:\n",
        "            print(\"Don't have data\")\n",
        "\n",
        "class Doctor:\n",
        "    doctor_data = []\n",
        "    doctor_dict = {}\n",
        "   \n",
        "    def __init__(self,name,room_no):\n",
        "        self.name = name\n",
        "        self.room_no = room_no\n",
        "\n",
        "    def show_doctor_data(self):\n",
        "        print(\"The Doctor Data\")\n",
        "        print(\"While the data show the [Doctor's Name, Doctor Room Number]\")\n",
        "        for i in range(len(self.doctor_data)):\n",
        "            print(f\"{i+1} {self.doctor_data[i]}\")\n",
        "\n",
        "    def add_doctor(self,name,room_no):\n",
        "        add_doctor = Doctor(name,room_no)\n",
        "        Doctor.doctor_data.append([name,room_no])\n",
        "        Doctor.doctor_dict[room_no] = name\n",
        "    \n",
        "    def search_doctor(self,room_no):\n",
        "        if room_no in Doctor.doctor_dict:\n",
        "            print(f\"Doctor room {room_no}: {Doctor.doctor_dict[room_no]}\")\n",
        "        else:\n",
        "            print(\"Don't have data\")\n"
      ],
      "metadata": {
        "id": "ClCUATAopV8a"
      },
      "execution_count": null,
      "outputs": []
    },
    {
      "cell_type": "markdown",
      "source": [
        "**Create a Patinet and Doctor**\n",
        "\n",
        "---\n",
        "\n",
        "\n",
        "\n"
      ],
      "metadata": {
        "id": "dtA58NJCM4m4"
      }
    },
    {
      "cell_type": "code",
      "source": [
        "# Create a new patient\n",
        "p1 = Patient(1100,\"Alice\", 30)\n",
        "# Add the patient to the patient_data list\n",
        "p1.add_patient(1100,\"Alice\", 30)\n",
        "\n",
        "# Create another patient\n",
        "p2 = Patient(1111,\"Bob\", 35)\n",
        "# Add the patient to the patient_data list\n",
        "p2.add_patient(1111,\"Bob\", 35)\n",
        "\n",
        "Patient.add_patient(Patient,1001,\"Eve\",40)\n",
        "# Show the patient data\n",
        "Patient.show_patient_data(Patient)\n",
        "# Search for the patient data by the patient's ID\n",
        "Patient.search_patient(Patient,1001)\n",
        "# Search for the patient that have not data.\n",
        "Patient.search_patient(Patient,1122)\n",
        "\n",
        "# Create a new doctor\n",
        "d1 = Doctor(\"Dr.Jim\",1)\n",
        "# Add the doctor to the doctor_data list\n",
        "d1.add_doctor(\"Dr.Jim\",1)\n",
        "\n",
        "Doctor.add_doctor(Doctor,\"Dr.Joo\",2)\n",
        "\n",
        "# Show the Doctor data\n",
        "Doctor.show_doctor_data(Doctor)\n",
        "# Search for the doctor data by the doctor room\n",
        "Doctor.search_doctor(Doctor,1)\n",
        "\n",
        "Doctor.search_doctor(Doctor,5)"
      ],
      "metadata": {
        "colab": {
          "base_uri": "https://localhost:8080/"
        },
        "id": "f5hXraIssyg3",
        "outputId": "0305eec5-fee9-4065-b527-dd67465fe15c"
      },
      "execution_count": null,
      "outputs": [
        {
          "output_type": "stream",
          "name": "stdout",
          "text": [
            "The Patient Data\n",
            "Total patients that have data is 3 people. While the data show the [Patient's ID., Patient's Name,Patient's Ages]\n",
            "1 [1100, 'Alice', 30]\n",
            "2 [1111, 'Bob', 35]\n",
            "3 [1001, 'Eve', 40]\n",
            "Patient ID 1001: Name Eve Age 40\n",
            "Don't have data\n",
            "The Doctor Data\n",
            "While the data show the [Doctor's Name, Doctor Room Number]\n",
            "1 ['Dr.Jim', 1]\n",
            "2 ['Dr.Joo', 2]\n",
            "Doctor room 1: Dr.Jim\n",
            "Don't have data\n"
          ]
        }
      ]
    },
    {
      "cell_type": "markdown",
      "source": [
        "**Queuing  System**\n",
        "---\n",
        "\n",
        "\n",
        "\n",
        "\n"
      ],
      "metadata": {
        "id": "i8KRAR9Q3AZP"
      }
    },
    {
      "cell_type": "markdown",
      "source": [
        "**Ticket System**\n",
        "\n",
        "\n",
        "---\n",
        "\n"
      ],
      "metadata": {
        "id": "Erpy6sZUf6hf"
      }
    },
    {
      "cell_type": "code",
      "source": [
        "def generate_items():\n",
        "    alphabet = \"ABCDEFGHIJKLMNOPQRSTUVWXYZ\"\n",
        "    char1 = \"A\"\n",
        "    i = 1\n",
        "    while True:\n",
        "        yield f\"{char1}{str(i).zfill(2)}\"\n",
        "        i += 1\n",
        "        if i == 100:\n",
        "            char1_index = alphabet.index(char1)\n",
        "            char1_index += 1\n",
        "            if char1_index == len(alphabet):\n",
        "                char1_index = 0\n",
        "                # reset values to A01 at the start of each day\n",
        "                if datetime.datetime.now().hour == 0:\n",
        "                    char1 = \"A\"\n",
        "                    i = 1\n",
        "                else:\n",
        "                    char1 = alphabet[char1_index]\n",
        "                    i = 0"
      ],
      "metadata": {
        "id": "0JcJjqKEf50D"
      },
      "execution_count": null,
      "outputs": []
    },
    {
      "cell_type": "code",
      "source": [
        "class Queue:\n",
        "    def __init__(self):\n",
        "        self.queue = deque()\n",
        "        self.tickets = generate_items()\n",
        "\n",
        "    def add(self, appointment):\n",
        "        appointment.ticket = next(self.tickets)\n",
        "        self.queue.appendleft(appointment)\n",
        "\n",
        "    def remove(self):\n",
        "        appointment = self.queue.pop()\n",
        "        print(f\"Removed appointment for patient with id {appointment.patient_id}.\")\n",
        "        return appointment\n",
        "\n",
        "    def walkin(self, patient_id, doctor):\n",
        "        current_datetime = datetime.datetime.now()\n",
        "        appointment = Appointment(current_datetime, current_datetime, patient_id, doctor)\n",
        "        self.add(appointment)\n",
        "        print(f\"Walk-in patient with id {patient_id} has been added to the queue for doctor {doctor}.\")\n",
        "\n",
        "    def display(self, doctor):\n",
        "        if not self.queue:\n",
        "            print(f\"No confirmed appointments found.\")\n",
        "        else:\n",
        "            x = PrettyTable()\n",
        "            x.field_names = [\"Order\", \"Patient\", \"Ticket\"]\n",
        "            appointments = [appointment for appointment in self.queue if appointment.doctor == doctor]\n",
        "            if not appointments:\n",
        "                print(f\"No confirmed appointments found for doctor {doctor}.\")\n",
        "            else:\n",
        "                appointments = list(reversed(appointments))\n",
        "                for index, appointment in enumerate(appointments, 1):\n",
        "                    x.add_row([index, appointment.patient_id, appointment.ticket])\n",
        "                print(f\"Queue for Doctor {doctor}:\")\n",
        "                print(x)\n"
      ],
      "metadata": {
        "id": "I6U3Hh_T1waq"
      },
      "execution_count": null,
      "outputs": []
    },
    {
      "cell_type": "markdown",
      "source": [
        "**Appointment System**\n",
        "---\n",
        "\n"
      ],
      "metadata": {
        "id": "LAgIAS7eBDQd"
      }
    },
    {
      "cell_type": "code",
      "source": [
        "class Appointment:\n",
        "    def __init__(self, start_time, end_time, patient_id, doctor, ticket=None):\n",
        "        self.start_time = start_time\n",
        "        self.end_time = end_time\n",
        "        self.patient_id = patient_id\n",
        "        self.doctor = doctor\n",
        "        self.ticket = ticket\n",
        "\n",
        "class Hospital:\n",
        "    def __init__(self, name, capacity):\n",
        "        self.name = name\n",
        "        self.capacity = capacity\n",
        "        self.appointments = []\n",
        "\n",
        "    def make_appointment(self, start_time, end_time, patient_id, doctor):\n",
        "        # Check if there are less than 6 appointments in the given hour\n",
        "        appointments_in_hour = [a for a in self.appointments if a.start_time.hour == start_time.hour]\n",
        "        if len(appointments_in_hour) >= 6:\n",
        "             raise Exception(f\"Sorry, there are no available appointments at {start_time}.\")\n",
        "        \n",
        "        # Check if the time slot is available for the doctor \n",
        "        if self.check_doctor_availability(start_time, end_time, doctor):\n",
        "             raise Exception(f\"Sorry, Doctor {doctor} already has an appointment during {start_time.strftime('%H:%M')}-{end_time.strftime('%H:%M')}\")\n",
        "\n",
        "        # If there are available appointments, create a new one\n",
        "        appointment = Appointment(start_time, end_time, patient_id, doctor)\n",
        "        self.appointments.append(appointment)\n",
        "    \n",
        "    def check_doctor_availability(self, start_time, end_time, doctor):\n",
        "        for appointment in self.appointments:\n",
        "            if appointment.doctor == doctor and (appointment.start_time <= start_time < appointment.end_time or appointment.start_time < end_time <= appointment.end_time):\n",
        "                return True\n",
        "        return False\n",
        "\n",
        "    def display_appointments(self, doctor):\n",
        "    #Display all the appointments for a given doctor in tabular format\n",
        "        appointments = [appointment for appointment in self.appointments if appointment.doctor == doctor]\n",
        "        if not appointments:\n",
        "            print(f\"No appointments found for Doctor {doctor}.\")\n",
        "        else:\n",
        "            x = PrettyTable()\n",
        "            x.field_names = [\"Date\", \"Start Time\", \"End Time\", \"Patient_ID\"]\n",
        "            for appointment in appointments:\n",
        "                x.add_row([appointment.start_time.strftime(\"%d %b %Y\"), appointment.start_time.strftime(\"%H:%M\"), appointment.end_time.strftime(\"%H:%M\"), appointment.patient_id])\n",
        "            print(f\"Appointments for Doctor {doctor}:\")\n",
        "            print(x)\n",
        "    \n",
        "    def confirm_appointment(self, patient_id):\n",
        "        appointment = next((appointment for appointment in self.appointments if appointment.patient_id == patient_id), None)\n",
        "        if appointment and appointment.start_time.date() == datetime.datetime.now().date() and appointment.start_time > datetime.datetime.now():\n",
        "            appointment.confirmed = True\n",
        "            print(\"Confirm Appointment\")\n",
        "            queue.add(appointment)\n",
        "        elif not appointment:\n",
        "            raise Exception(f\"No appointment found for patient with id {patient_id}.\")\n",
        "        else:\n",
        "            raise Exception(f\"Sorry, appointment for patient with id {patient_id} can only be confirmed on the appointment date before the start time and has not been confirmed yet.\")\n"
      ],
      "metadata": {
        "id": "Qpd6okuE5vMe"
      },
      "execution_count": null,
      "outputs": []
    },
    {
      "cell_type": "markdown",
      "source": [
        "**Usage Examples**\n",
        "---\n",
        "\n"
      ],
      "metadata": {
        "id": "iBBnBKdB-HQ2"
      }
    },
    {
      "cell_type": "markdown",
      "source": [
        "Patient make an appointment\n",
        "\n",
        "---\n"
      ],
      "metadata": {
        "id": "HVLzxXEFOPIZ"
      }
    },
    {
      "cell_type": "code",
      "source": [
        "# Create a new hospital with 50 beds\n",
        "hospital = Hospital(\"Klong Luang's Hospital\", 200)\n",
        "queue = Queue()\n",
        "# Patient makes an appointment with Dr. Jim for 9am on 2021-01-01\n",
        "start_time = datetime.datetime(2023, 2, 8, 9, 0)\n",
        "end_time = datetime.datetime(2023, 2, 8, 10, 0)\n",
        "try:\n",
        "    hospital.make_appointment(start_time, end_time, \"Aim\", d1.name)\n",
        "except Exception as ex:\n",
        "    print(ex)\n",
        "\n",
        "# Patient tries to make another appointment with the same doctor at the same time\n",
        "start_time = datetime.datetime(2023, 2, 8, 9, 30)\n",
        "end_time = datetime.datetime(2023, 2, 8, 10, 0)\n",
        "try:\n",
        "    hospital.make_appointment(start_time, end_time, \"Anna\", d1.name)\n",
        "except Exception as ex:\n",
        "    print(ex)\n",
        "\n",
        "start_time = datetime.datetime(2023, 2, 8, 8, 0)\n",
        "end_time = datetime.datetime(2023, 2, 8, 9, 0)\n",
        "try:\n",
        "    hospital.make_appointment(start_time, end_time, \"Amy\", \"Dr. Jane\")\n",
        "except Exception as ex:\n",
        "    print(ex)\n",
        "\n",
        "start_time = datetime.datetime(2023, 2, 8, 21, 0)\n",
        "end_time = datetime.datetime(2023, 2, 8, 21, 30)\n",
        "try:\n",
        "    hospital.make_appointment(start_time, end_time, 1000, \"Dr. Jane\")\n",
        "except Exception as ex:\n",
        "    print(ex)\n",
        "\n",
        "start_time = datetime.datetime(2023, 2, 8, 22, 0)\n",
        "end_time = datetime.datetime(2023, 2, 8, 22, 30)\n",
        "try:\n",
        "    hospital.make_appointment(start_time, end_time, 1001, \"Dr. Jane\")\n",
        "except Exception as ex:\n",
        "    print(ex)\n",
        "\n",
        "hospital.display_appointments(d1.name)\n",
        "hospital.display_appointments(\"Dr. Jane\")"
      ],
      "metadata": {
        "colab": {
          "base_uri": "https://localhost:8080/"
        },
        "id": "gNo1kD0pL3bs",
        "outputId": "526cdbdd-a942-4583-e123-c71318325dc1"
      },
      "execution_count": null,
      "outputs": [
        {
          "output_type": "stream",
          "name": "stdout",
          "text": [
            "Sorry, Doctor Dr.Jim already has an appointment during 09:30-10:00\n",
            "Appointments for Doctor Dr.Jim:\n",
            "+-------------+------------+----------+------------+\n",
            "|     Date    | Start Time | End Time | Patient_ID |\n",
            "+-------------+------------+----------+------------+\n",
            "| 08 Feb 2023 |   09:00    |  10:00   |    Aim     |\n",
            "+-------------+------------+----------+------------+\n",
            "Appointments for Doctor Dr. Jane:\n",
            "+-------------+------------+----------+------------+\n",
            "|     Date    | Start Time | End Time | Patient_ID |\n",
            "+-------------+------------+----------+------------+\n",
            "| 08 Feb 2023 |   08:00    |  09:00   |    Amy     |\n",
            "| 08 Feb 2023 |   21:00    |  21:30   |    1000    |\n",
            "| 08 Feb 2023 |   22:00    |  22:30   |    1001    |\n",
            "+-------------+------------+----------+------------+\n"
          ]
        }
      ]
    },
    {
      "cell_type": "markdown",
      "source": [
        "**Patient confirm their Appointment**\n",
        "\n",
        "\n",
        "---\n",
        "\n"
      ],
      "metadata": {
        "id": "50H66cppYv9P"
      }
    },
    {
      "cell_type": "code",
      "source": [
        "current_datetime = datetime.datetime.now()\n",
        "print(current_datetime.strftime(\"%d %b %Y %H:%M\"))\n",
        "\n",
        "try:\n",
        "    hospital.confirm_appointment(1000)\n",
        "except Exception as ex:\n",
        "    print(ex)\n",
        "\n",
        "try:\n",
        "    hospital.confirm_appointment(1001)\n",
        "except Exception as ex:\n",
        "    print(ex)"
      ],
      "metadata": {
        "colab": {
          "base_uri": "https://localhost:8080/"
        },
        "id": "DgL07iQTY-z1",
        "outputId": "c8667ed9-5fa8-4ec8-f51e-8c4562507b28"
      },
      "execution_count": null,
      "outputs": [
        {
          "output_type": "stream",
          "name": "stdout",
          "text": [
            "09 Feb 2023 07:48\n",
            "Sorry, appointment for patient with id 1000 can only be confirmed on the appointment date before the start time and has not been confirmed yet.\n",
            "Sorry, appointment for patient with id 1001 can only be confirmed on the appointment date before the start time and has not been confirmed yet.\n"
          ]
        }
      ]
    },
    {
      "cell_type": "markdown",
      "source": [
        "Add Walkin Queue\n",
        "\n",
        "\n",
        "---\n",
        "\n"
      ],
      "metadata": {
        "id": "wqMssyGjDL1l"
      }
    },
    {
      "cell_type": "code",
      "source": [
        "queue.walkin(1002,\"Dr. Jane\")"
      ],
      "metadata": {
        "colab": {
          "base_uri": "https://localhost:8080/"
        },
        "id": "wK1ggQw_DK-9",
        "outputId": "2a35f4af-afe5-4e5a-ccd7-d3c539277f3b"
      },
      "execution_count": null,
      "outputs": [
        {
          "output_type": "stream",
          "name": "stdout",
          "text": [
            "Walk-in patient with id 1002 has been added to the queue for doctor Dr. Jane.\n"
          ]
        }
      ]
    },
    {
      "cell_type": "markdown",
      "source": [
        "Show the queue line for Dr. Jane in that date\n",
        "\n",
        "---\n",
        "\n"
      ],
      "metadata": {
        "id": "V2MEIXMBEsUG"
      }
    },
    {
      "cell_type": "code",
      "source": [
        "queue.display(\"Dr. Jane\")"
      ],
      "metadata": {
        "colab": {
          "base_uri": "https://localhost:8080/"
        },
        "id": "a3wdn1_f7CwO",
        "outputId": "ebb85046-4e94-4a47-eb25-f75399161076"
      },
      "execution_count": null,
      "outputs": [
        {
          "output_type": "stream",
          "name": "stdout",
          "text": [
            "Queue for Doctor Dr. Jane:\n",
            "+-------+---------+--------+\n",
            "| Order | Patient | Ticket |\n",
            "+-------+---------+--------+\n",
            "|   1   |   1002  |  A01   |\n",
            "+-------+---------+--------+\n"
          ]
        }
      ]
    },
    {
      "cell_type": "markdown",
      "source": [
        "Call the patient in the queue line."
      ],
      "metadata": {
        "id": "2MTNbZYNE9ue"
      }
    },
    {
      "cell_type": "code",
      "source": [
        "queue.remove()"
      ],
      "metadata": {
        "colab": {
          "base_uri": "https://localhost:8080/"
        },
        "id": "AwczQ-nhFBy4",
        "outputId": "1c7b3530-0a0a-47d5-a62d-8013d41422fe"
      },
      "execution_count": null,
      "outputs": [
        {
          "output_type": "stream",
          "name": "stdout",
          "text": [
            "Removed appointment for patient with id 1002.\n"
          ]
        },
        {
          "output_type": "execute_result",
          "data": {
            "text/plain": [
              "<__main__.Appointment at 0x7fbc306b41f0>"
            ]
          },
          "metadata": {},
          "execution_count": 12
        }
      ]
    },
    {
      "cell_type": "markdown",
      "source": [
        "Final Result"
      ],
      "metadata": {
        "id": "PmWp3AOcFwgT"
      }
    },
    {
      "cell_type": "code",
      "source": [
        "queue.display(\"Dr. Jane\")"
      ],
      "metadata": {
        "colab": {
          "base_uri": "https://localhost:8080/"
        },
        "id": "-5ipb_L1AA_J",
        "outputId": "8d54cd40-f63b-4df0-fec0-f7edf7b8011d"
      },
      "execution_count": null,
      "outputs": [
        {
          "output_type": "stream",
          "name": "stdout",
          "text": [
            "No confirmed appointments found.\n"
          ]
        }
      ]
    }
  ]
}